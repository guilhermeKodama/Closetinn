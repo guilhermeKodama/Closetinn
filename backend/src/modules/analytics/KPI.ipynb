{
 "cells": [
  {
   "cell_type": "markdown",
   "metadata": {},
   "source": [
    "# Metrics\n",
    "\n",
    "Engine of Growth: **Sticky Engine of Growth**\n",
    "\n",
    "## KPI's\n",
    "- churn rate = number lost / number at the start of the period\n",
    "- customers acquisition rate = new customers after the period / number at the start of the period\n",
    "- rate of compounding = customers acquisition rate minus the churn rate (speed of growth)\n",
    "\n",
    "### Chrun Rate\n",
    "Churn rate can be defined either by customer or by product. In either case, it is the **number lost** divided by the **number at the start of the period** and is typically expressed as a percentage (%) of all products/customers and on a monthly or annual basis. So for the customer attrition rate you would **divide the number of customer lost by the total number of customers at the start of the period**.\n",
    "\n",
    "Churn rate is also the compliment of **Retention rate**. If a company has a 20% attrition rate it will have an 80% retention rate.\n",
    "\n",
    "### Rate of compounding\n",
    "The rules that govern the sticky engine of growth are pretty simple: if the rate of new customer acquisition exceeds the churn rate, the product will grow. The speed of growth is determined by what I call the rate of compounding, which is simply the natural growth rate minus the churn rate. Like a bank account that earns compounding interest, having a high rate of compounding will lead to extremely rapid growth—without advertising, viral growth, or publicity stunts.\n",
    "\n",
    "Ries, Eric. The Lean Startup: How Today's Entrepreneurs Use Continuous Innovation to Create Radically Successful Businesses (p. 211). The Crown Publishing Group. Edição do Kindle. \n"
   ]
  },
  {
   "cell_type": "markdown",
   "metadata": {},
   "source": [
    "### Organizing data"
   ]
  },
  {
   "cell_type": "code",
   "execution_count": 1,
   "metadata": {
    "collapsed": false
   },
   "outputs": [
    {
     "data": {
      "text/html": [
       "<div>\n",
       "<table border=\"1\" class=\"dataframe\">\n",
       "  <thead>\n",
       "    <tr style=\"text-align: right;\">\n",
       "      <th></th>\n",
       "      <th>_id</th>\n",
       "      <th>budget</th>\n",
       "      <th>dob</th>\n",
       "      <th>email</th>\n",
       "      <th>name</th>\n",
       "      <th>startedAt</th>\n",
       "      <th>submitedAt</th>\n",
       "      <th>typeformID</th>\n",
       "    </tr>\n",
       "  </thead>\n",
       "  <tbody>\n",
       "    <tr>\n",
       "      <th>0</th>\n",
       "      <td>5bb442b6382e724314c10c1d</td>\n",
       "      <td>4</td>\n",
       "      <td>2018-09-19</td>\n",
       "      <td>cristianoark23@gmail.com</td>\n",
       "      <td>Dk</td>\n",
       "      <td>2018-09-19 21:43:43</td>\n",
       "      <td>2018-09-19 21:43:43</td>\n",
       "      <td>0b8512a54804c39fe0eb1a2b2d32760d</td>\n",
       "    </tr>\n",
       "    <tr>\n",
       "      <th>1</th>\n",
       "      <td>5b9ec43d29d9dd39090e1d90</td>\n",
       "      <td>3</td>\n",
       "      <td>1990-02-07</td>\n",
       "      <td>kayron.scabral@gmail.com</td>\n",
       "      <td>Kayron Cabral</td>\n",
       "      <td>2018-09-24 13:43:49</td>\n",
       "      <td>2018-09-24 13:43:49</td>\n",
       "      <td>58f02f39c4c2b4b993f89918969a9137</td>\n",
       "    </tr>\n",
       "    <tr>\n",
       "      <th>2</th>\n",
       "      <td>5bb442b4382e724314c10c1a</td>\n",
       "      <td>1</td>\n",
       "      <td>1995-10-18</td>\n",
       "      <td>emanuelfilipe678@gmail.com</td>\n",
       "      <td>Fkli</td>\n",
       "      <td>2018-09-26 16:46:49</td>\n",
       "      <td>2018-09-26 16:46:49</td>\n",
       "      <td>da189936f361ae933a01723cdedefbb7</td>\n",
       "    </tr>\n",
       "    <tr>\n",
       "      <th>3</th>\n",
       "      <td>5bb442b5382e724314c10c1b</td>\n",
       "      <td>2</td>\n",
       "      <td>1998-07-09</td>\n",
       "      <td>ygor_santos22k@hotmail.com</td>\n",
       "      <td>Ygor</td>\n",
       "      <td>2018-09-20 01:21:39</td>\n",
       "      <td>2018-09-20 01:21:39</td>\n",
       "      <td>e64df55870ca4bcf99931818044d8d99</td>\n",
       "    </tr>\n",
       "    <tr>\n",
       "      <th>4</th>\n",
       "      <td>5bb442b6382e724314c10c1c</td>\n",
       "      <td>2</td>\n",
       "      <td>1984-04-24</td>\n",
       "      <td>thiagopolitto@yahoo.com.br</td>\n",
       "      <td>Thiago</td>\n",
       "      <td>2018-09-19 22:01:43</td>\n",
       "      <td>2018-09-19 22:01:43</td>\n",
       "      <td>95e25a78cac5a58a8f7ddab1f7ba1e23</td>\n",
       "    </tr>\n",
       "  </tbody>\n",
       "</table>\n",
       "</div>"
      ],
      "text/plain": [
       "                        _id  budget         dob                       email  \\\n",
       "0  5bb442b6382e724314c10c1d       4  2018-09-19    cristianoark23@gmail.com   \n",
       "1  5b9ec43d29d9dd39090e1d90       3  1990-02-07    kayron.scabral@gmail.com   \n",
       "2  5bb442b4382e724314c10c1a       1  1995-10-18  emanuelfilipe678@gmail.com   \n",
       "3  5bb442b5382e724314c10c1b       2  1998-07-09  ygor_santos22k@hotmail.com   \n",
       "4  5bb442b6382e724314c10c1c       2  1984-04-24  thiagopolitto@yahoo.com.br   \n",
       "\n",
       "            name            startedAt           submitedAt  \\\n",
       "0             Dk  2018-09-19 21:43:43  2018-09-19 21:43:43   \n",
       "1  Kayron Cabral  2018-09-24 13:43:49  2018-09-24 13:43:49   \n",
       "2           Fkli  2018-09-26 16:46:49  2018-09-26 16:46:49   \n",
       "3           Ygor  2018-09-20 01:21:39  2018-09-20 01:21:39   \n",
       "4         Thiago  2018-09-19 22:01:43  2018-09-19 22:01:43   \n",
       "\n",
       "                         typeformID  \n",
       "0  0b8512a54804c39fe0eb1a2b2d32760d  \n",
       "1  58f02f39c4c2b4b993f89918969a9137  \n",
       "2  da189936f361ae933a01723cdedefbb7  \n",
       "3  e64df55870ca4bcf99931818044d8d99  \n",
       "4  95e25a78cac5a58a8f7ddab1f7ba1e23  "
      ]
     },
     "execution_count": 1,
     "metadata": {},
     "output_type": "execute_result"
    }
   ],
   "source": [
    "import pymongo\n",
    "import numpy as np\n",
    "import pandas as pd\n",
    "import matplotlib.pyplot as plt\n",
    "from pandas.tseries.frequencies import to_offset\n",
    "\n",
    "%matplotlib inline\n",
    "\n",
    "cn = pymongo.MongoClient('mongodb://localhost:27017/fashionbot')\n",
    "db = cn['fashionbot']\n",
    "\n",
    "cursor = db.users.find({ 'typeform': True }, { '_id': 1, 'email': 1, 'budget': 1, 'typeformID': 1, 'dob': 1, 'name': 1, 'startedAt': 1, 'submitedAt': 1 })\n",
    "\n",
    "df =  pd.DataFrame(list(cursor))\n",
    "\n",
    "df.head()"
   ]
  },
  {
   "cell_type": "code",
   "execution_count": 2,
   "metadata": {
    "collapsed": false
   },
   "outputs": [
    {
     "data": {
      "text/html": [
       "<div>\n",
       "<table border=\"1\" class=\"dataframe\">\n",
       "  <thead>\n",
       "    <tr style=\"text-align: right;\">\n",
       "      <th></th>\n",
       "      <th>_id</th>\n",
       "      <th>createdAt</th>\n",
       "      <th>event</th>\n",
       "      <th>look</th>\n",
       "      <th>product</th>\n",
       "      <th>updatedAt</th>\n",
       "      <th>user</th>\n",
       "    </tr>\n",
       "  </thead>\n",
       "  <tbody>\n",
       "    <tr>\n",
       "      <th>0</th>\n",
       "      <td>5bd30ff1d647f074b12d7bbc</td>\n",
       "      <td>2018-10-26 13:00:33.782</td>\n",
       "      <td>LOOK_CLICK</td>\n",
       "      <td>5bb42e3673b91724dbbd2d07</td>\n",
       "      <td>None</td>\n",
       "      <td>2018-10-26 13:00:33.782</td>\n",
       "      <td>5ad651c16ed33100197d4cc6</td>\n",
       "    </tr>\n",
       "    <tr>\n",
       "      <th>1</th>\n",
       "      <td>5bd30ff8d647f074b12d9b0f</td>\n",
       "      <td>2018-10-26 13:00:40.757</td>\n",
       "      <td>LOOK_LIKE</td>\n",
       "      <td>5bb42e3673b91724dbbd2d07</td>\n",
       "      <td>None</td>\n",
       "      <td>2018-10-26 13:00:40.757</td>\n",
       "      <td>5ad651c16ed33100197d4cc6</td>\n",
       "    </tr>\n",
       "    <tr>\n",
       "      <th>2</th>\n",
       "      <td>5bd30ff9d647f074b12d9d88</td>\n",
       "      <td>2018-10-26 13:00:41.475</td>\n",
       "      <td>LOOK_DISLIKE</td>\n",
       "      <td>5bb42e3673b91724dbbd2d07</td>\n",
       "      <td>None</td>\n",
       "      <td>2018-10-26 13:00:41.475</td>\n",
       "      <td>5ad651c16ed33100197d4cc6</td>\n",
       "    </tr>\n",
       "    <tr>\n",
       "      <th>3</th>\n",
       "      <td>5bd30ffed647f074b12db601</td>\n",
       "      <td>2018-10-26 13:00:46.871</td>\n",
       "      <td>PRODUCT_CLICK</td>\n",
       "      <td>None</td>\n",
       "      <td>5b7225fdc3a81800015f7e66</td>\n",
       "      <td>2018-10-26 13:00:46.871</td>\n",
       "      <td>5ad651c16ed33100197d4cc6</td>\n",
       "    </tr>\n",
       "    <tr>\n",
       "      <th>4</th>\n",
       "      <td>5bd31006d647f074b12dd3e2</td>\n",
       "      <td>2018-10-26 13:00:54.797</td>\n",
       "      <td>PRODUCT_LIKE</td>\n",
       "      <td>None</td>\n",
       "      <td>5b7225fdc3a81800015f7e66</td>\n",
       "      <td>2018-10-26 13:00:54.797</td>\n",
       "      <td>5ad651c16ed33100197d4cc6</td>\n",
       "    </tr>\n",
       "  </tbody>\n",
       "</table>\n",
       "</div>"
      ],
      "text/plain": [
       "                        _id               createdAt          event  \\\n",
       "0  5bd30ff1d647f074b12d7bbc 2018-10-26 13:00:33.782     LOOK_CLICK   \n",
       "1  5bd30ff8d647f074b12d9b0f 2018-10-26 13:00:40.757      LOOK_LIKE   \n",
       "2  5bd30ff9d647f074b12d9d88 2018-10-26 13:00:41.475   LOOK_DISLIKE   \n",
       "3  5bd30ffed647f074b12db601 2018-10-26 13:00:46.871  PRODUCT_CLICK   \n",
       "4  5bd31006d647f074b12dd3e2 2018-10-26 13:00:54.797   PRODUCT_LIKE   \n",
       "\n",
       "                       look                   product               updatedAt  \\\n",
       "0  5bb42e3673b91724dbbd2d07                      None 2018-10-26 13:00:33.782   \n",
       "1  5bb42e3673b91724dbbd2d07                      None 2018-10-26 13:00:40.757   \n",
       "2  5bb42e3673b91724dbbd2d07                      None 2018-10-26 13:00:41.475   \n",
       "3                      None  5b7225fdc3a81800015f7e66 2018-10-26 13:00:46.871   \n",
       "4                      None  5b7225fdc3a81800015f7e66 2018-10-26 13:00:54.797   \n",
       "\n",
       "                       user  \n",
       "0  5ad651c16ed33100197d4cc6  \n",
       "1  5ad651c16ed33100197d4cc6  \n",
       "2  5ad651c16ed33100197d4cc6  \n",
       "3  5ad651c16ed33100197d4cc6  \n",
       "4  5ad651c16ed33100197d4cc6  "
      ]
     },
     "execution_count": 2,
     "metadata": {},
     "output_type": "execute_result"
    }
   ],
   "source": [
    "cursor = db.clicks.find({}, { '_id': 1, 'user': 1, 'product': 1, 'look': 1, 'event': 1, 'createdAt': 1, 'updatedAt': 1 })\n",
    "\n",
    "dfClick =  pd.DataFrame(list(cursor))\n",
    "dfClick.head()"
   ]
  },
  {
   "cell_type": "code",
   "execution_count": 3,
   "metadata": {
    "collapsed": false
   },
   "outputs": [],
   "source": [
    "# transform categorical data\n",
    "df['budget'] = df['budget'].astype('category')\n",
    "dfClick['event'] = dfClick['event'].astype('category')\n",
    "\n",
    "#transfrom date data\n",
    "df['submitedAt'] = df['submitedAt'].astype(\"datetime64\")\n",
    "dfClick['createdAt'] = pd.to_datetime(dfClick['createdAt'], format='%Y-%m-%d %H:%M:%S:%f')"
   ]
  },
  {
   "cell_type": "markdown",
   "metadata": {},
   "source": [
    "#### Budgets"
   ]
  },
  {
   "cell_type": "code",
   "execution_count": 4,
   "metadata": {
    "collapsed": false
   },
   "outputs": [
    {
     "data": {
      "text/plain": [
       "<matplotlib.axes._subplots.AxesSubplot at 0x10ce67fd0>"
      ]
     },
     "execution_count": 4,
     "metadata": {},
     "output_type": "execute_result"
    },
    {
     "data": {
      "image/png": "[encoded data removed]",
      "text/plain": [
       "<matplotlib.figure.Figure at 0x10ce67f50>"
      ]
     },
     "metadata": {},
     "output_type": "display_data"
    }
   ],
   "source": [
    "df['budget'].value_counts().plot(kind='bar')"
   ]
  },
  {
   "cell_type": "markdown",
   "metadata": {},
   "source": [
    "#### Growth rate"
   ]
  },
  {
   "cell_type": "code",
   "execution_count": 5,
   "metadata": {
    "collapsed": false
   },
   "outputs": [
    {
     "data": {
      "text/plain": [
       "<matplotlib.axes._subplots.AxesSubplot at 0x111e28050>"
      ]
     },
     "execution_count": 5,
     "metadata": {},
     "output_type": "execute_result"
    },
    {
     "data": {
      "image/png": "[encoded data removed]",
      "text/plain": [
       "<matplotlib.figure.Figure at 0x111d61b10>"
      ]
     },
     "metadata": {},
     "output_type": "display_data"
    }
   ],
   "source": [
    "df[\"submitedAt\"].groupby(df[\"submitedAt\"].dt.week).count().plot(kind=\"bar\")"
   ]
  },
  {
   "cell_type": "code",
   "execution_count": 6,
   "metadata": {
    "collapsed": false
   },
   "outputs": [
    {
     "data": {
      "text/plain": [
       "<matplotlib.axes._subplots.AxesSubplot at 0x111fae810>"
      ]
     },
     "execution_count": 6,
     "metadata": {},
     "output_type": "execute_result"
    },
    {
     "data": {
      "image/png": "[encoded data removed]",
      "text/plain": [
       "<matplotlib.figure.Figure at 0x112060910>"
      ]
     },
     "metadata": {},
     "output_type": "display_data"
    }
   ],
   "source": [
    "# week_start = df['submitedAt'].dt.to_period('W').apply(lambda r: r.start_time)\n",
    "# week_end = df['submitedAt'].dt.to_period('W').apply(lambda r: r.end_time)\n",
    "\n",
    "# print week_end - week_start\n",
    "\n",
    "week_count = df[\"submitedAt\"].groupby(df[\"submitedAt\"].dt.week).count()\n",
    "\n",
    "week_total_count = pd.rolling_sum(week_count,window =7,min_periods=0)\n",
    "week_total_count.plot()"
   ]
  },
  {
   "cell_type": "code",
   "execution_count": 7,
   "metadata": {
    "collapsed": false
   },
   "outputs": [
    {
     "name": "stdout",
     "output_type": "stream",
     "text": [
      "submitedAt\n",
      "35    1.000000\n",
      "36    0.957447\n",
      "37    0.060000\n",
      "38    0.781659\n",
      "39    0.442822\n",
      "40    0.320661\n",
      "41    0.251238\n",
      "42    0.095398\n",
      "dtype: float64\n"
     ]
    },
    {
     "data": {
      "text/plain": [
       "<matplotlib.axes._subplots.AxesSubplot at 0x11255a290>"
      ]
     },
     "execution_count": 7,
     "metadata": {},
     "output_type": "execute_result"
    },
    {
     "data": {
      "image/png": "[encoded data removed]",
      "text/plain": [
       "<matplotlib.figure.Figure at 0x112042410>"
      ]
     },
     "metadata": {},
     "output_type": "display_data"
    }
   ],
   "source": [
    "growth_rate = week_count / week_total_count\n",
    "print growth_rate\n",
    "growth_rate.plot()"
   ]
  },
  {
   "cell_type": "markdown",
   "metadata": {},
   "source": [
    "#### Churn Rate"
   ]
  },
  {
   "cell_type": "code",
   "execution_count": 8,
   "metadata": {
    "collapsed": false
   },
   "outputs": [],
   "source": [
    "# sample\n",
    "def random_dates(start, end, n=100):\n",
    "    start_u = start.value//10**9\n",
    "    end_u = end.value//10**9\n",
    "\n",
    "    return pd.DatetimeIndex((10**9*np.random.randint(start_u, end_u, n)).view('M8[ns]'))\n",
    "\n",
    "n = 1000\n",
    "start = pd.to_datetime('2018-01-01')\n",
    "end = pd.to_datetime('2018-12-01')"
   ]
  },
  {
   "cell_type": "code",
   "execution_count": 9,
   "metadata": {
    "collapsed": false
   },
   "outputs": [
    {
     "data": {
      "text/html": [
       "<div>\n",
       "<table border=\"1\" class=\"dataframe\">\n",
       "  <thead>\n",
       "    <tr style=\"text-align: right;\">\n",
       "      <th></th>\n",
       "      <th>_id</th>\n",
       "      <th>createdAt</th>\n",
       "      <th>event</th>\n",
       "      <th>look</th>\n",
       "      <th>product</th>\n",
       "      <th>updatedAt</th>\n",
       "      <th>user</th>\n",
       "    </tr>\n",
       "  </thead>\n",
       "  <tbody>\n",
       "    <tr>\n",
       "      <th>0</th>\n",
       "      <td></td>\n",
       "      <td>2018-07-20 09:52:43</td>\n",
       "      <td>UNSUBSCRIBE_CLICK</td>\n",
       "      <td>None</td>\n",
       "      <td>None</td>\n",
       "      <td>2018-07-20 09:52:43</td>\n",
       "      <td></td>\n",
       "    </tr>\n",
       "    <tr>\n",
       "      <th>1</th>\n",
       "      <td></td>\n",
       "      <td>2018-04-03 04:35:22</td>\n",
       "      <td>UNSUBSCRIBE_CLICK</td>\n",
       "      <td>None</td>\n",
       "      <td>None</td>\n",
       "      <td>2018-04-03 04:35:22</td>\n",
       "      <td></td>\n",
       "    </tr>\n",
       "    <tr>\n",
       "      <th>2</th>\n",
       "      <td></td>\n",
       "      <td>2018-09-20 12:49:24</td>\n",
       "      <td>UNSUBSCRIBE_CLICK</td>\n",
       "      <td>None</td>\n",
       "      <td>None</td>\n",
       "      <td>2018-09-20 12:49:24</td>\n",
       "      <td></td>\n",
       "    </tr>\n",
       "    <tr>\n",
       "      <th>3</th>\n",
       "      <td></td>\n",
       "      <td>2018-08-29 09:51:26</td>\n",
       "      <td>UNSUBSCRIBE_CLICK</td>\n",
       "      <td>None</td>\n",
       "      <td>None</td>\n",
       "      <td>2018-08-29 09:51:26</td>\n",
       "      <td></td>\n",
       "    </tr>\n",
       "    <tr>\n",
       "      <th>4</th>\n",
       "      <td></td>\n",
       "      <td>2018-09-10 01:56:46</td>\n",
       "      <td>UNSUBSCRIBE_CLICK</td>\n",
       "      <td>None</td>\n",
       "      <td>None</td>\n",
       "      <td>2018-09-10 01:56:46</td>\n",
       "      <td></td>\n",
       "    </tr>\n",
       "  </tbody>\n",
       "</table>\n",
       "</div>"
      ],
      "text/plain": [
       "  _id           createdAt              event  look product  \\\n",
       "0     2018-07-20 09:52:43  UNSUBSCRIBE_CLICK  None    None   \n",
       "1     2018-04-03 04:35:22  UNSUBSCRIBE_CLICK  None    None   \n",
       "2     2018-09-20 12:49:24  UNSUBSCRIBE_CLICK  None    None   \n",
       "3     2018-08-29 09:51:26  UNSUBSCRIBE_CLICK  None    None   \n",
       "4     2018-09-10 01:56:46  UNSUBSCRIBE_CLICK  None    None   \n",
       "\n",
       "            updatedAt user  \n",
       "0 2018-07-20 09:52:43       \n",
       "1 2018-04-03 04:35:22       \n",
       "2 2018-09-20 12:49:24       \n",
       "3 2018-08-29 09:51:26       \n",
       "4 2018-09-10 01:56:46       "
      ]
     },
     "execution_count": 9,
     "metadata": {},
     "output_type": "execute_result"
    }
   ],
   "source": [
    "datesUnsub = random_dates(start, end, n)\n",
    "dates_new_users = random_dates(start, end, n * 10)\n",
    "\n",
    "unsub_sample = pd.DataFrame({\n",
    "    '_id': [''] * n,\n",
    "    'product': [None] * n,\n",
    "    'look': [None] * n,\n",
    "    'event': ['UNSUBSCRIBE_CLICK'] * n,\n",
    "    'user': [''] * n,\n",
    "    'createdAt': datesUnsub,\n",
    "    'updatedAt': datesUnsub,   \n",
    "})\n",
    "\n",
    "# np.random.randint(1,4,size=n*10)\n",
    "\n",
    "new_user_sample = pd.DataFrame({ \n",
    "    '_id': [''] * n * 10,\n",
    "     'email': [''] * n * 10,\n",
    "     'budget': [''] * n * 10,\n",
    "     'typeformID': [''] * n * 10,\n",
    "     'dob': [''] * n * 10,\n",
    "     'name': [''] * n * 10,\n",
    "     'startedAt': dates_new_users,\n",
    "     'submitedAt': dates_new_users \n",
    "})\n",
    "\n",
    "unsub_sample.head()"
   ]
  },
  {
   "cell_type": "code",
   "execution_count": 10,
   "metadata": {
    "collapsed": false
   },
   "outputs": [
    {
     "data": {
      "text/html": [
       "<div>\n",
       "<table border=\"1\" class=\"dataframe\">\n",
       "  <thead>\n",
       "    <tr style=\"text-align: right;\">\n",
       "      <th></th>\n",
       "      <th>_id</th>\n",
       "      <th>budget</th>\n",
       "      <th>dob</th>\n",
       "      <th>email</th>\n",
       "      <th>name</th>\n",
       "      <th>startedAt</th>\n",
       "      <th>submitedAt</th>\n",
       "      <th>typeformID</th>\n",
       "    </tr>\n",
       "  </thead>\n",
       "  <tbody>\n",
       "    <tr>\n",
       "      <th>0</th>\n",
       "      <td></td>\n",
       "      <td></td>\n",
       "      <td></td>\n",
       "      <td></td>\n",
       "      <td></td>\n",
       "      <td>2018-05-24 16:32:58</td>\n",
       "      <td>2018-05-24 16:32:58</td>\n",
       "      <td></td>\n",
       "    </tr>\n",
       "    <tr>\n",
       "      <th>1</th>\n",
       "      <td></td>\n",
       "      <td></td>\n",
       "      <td></td>\n",
       "      <td></td>\n",
       "      <td></td>\n",
       "      <td>2018-11-03 10:31:05</td>\n",
       "      <td>2018-11-03 10:31:05</td>\n",
       "      <td></td>\n",
       "    </tr>\n",
       "    <tr>\n",
       "      <th>2</th>\n",
       "      <td></td>\n",
       "      <td></td>\n",
       "      <td></td>\n",
       "      <td></td>\n",
       "      <td></td>\n",
       "      <td>2018-05-29 19:37:13</td>\n",
       "      <td>2018-05-29 19:37:13</td>\n",
       "      <td></td>\n",
       "    </tr>\n",
       "    <tr>\n",
       "      <th>3</th>\n",
       "      <td></td>\n",
       "      <td></td>\n",
       "      <td></td>\n",
       "      <td></td>\n",
       "      <td></td>\n",
       "      <td>2018-05-28 17:55:51</td>\n",
       "      <td>2018-05-28 17:55:51</td>\n",
       "      <td></td>\n",
       "    </tr>\n",
       "    <tr>\n",
       "      <th>4</th>\n",
       "      <td></td>\n",
       "      <td></td>\n",
       "      <td></td>\n",
       "      <td></td>\n",
       "      <td></td>\n",
       "      <td>2018-09-25 04:18:00</td>\n",
       "      <td>2018-09-25 04:18:00</td>\n",
       "      <td></td>\n",
       "    </tr>\n",
       "  </tbody>\n",
       "</table>\n",
       "</div>"
      ],
      "text/plain": [
       "  _id budget dob email name           startedAt          submitedAt typeformID\n",
       "0                           2018-05-24 16:32:58 2018-05-24 16:32:58           \n",
       "1                           2018-11-03 10:31:05 2018-11-03 10:31:05           \n",
       "2                           2018-05-29 19:37:13 2018-05-29 19:37:13           \n",
       "3                           2018-05-28 17:55:51 2018-05-28 17:55:51           \n",
       "4                           2018-09-25 04:18:00 2018-09-25 04:18:00           "
      ]
     },
     "execution_count": 10,
     "metadata": {},
     "output_type": "execute_result"
    }
   ],
   "source": [
    "new_user_sample.head()"
   ]
  },
  {
   "cell_type": "code",
   "execution_count": 11,
   "metadata": {
    "collapsed": false
   },
   "outputs": [
    {
     "data": {
      "text/html": [
       "<div>\n",
       "<table border=\"1\" class=\"dataframe\">\n",
       "  <thead>\n",
       "    <tr style=\"text-align: right;\">\n",
       "      <th></th>\n",
       "      <th>_id</th>\n",
       "      <th>budget</th>\n",
       "      <th>dob</th>\n",
       "      <th>email</th>\n",
       "      <th>name</th>\n",
       "      <th>startedAt</th>\n",
       "      <th>submitedAt</th>\n",
       "      <th>typeformID</th>\n",
       "    </tr>\n",
       "  </thead>\n",
       "  <tbody>\n",
       "    <tr>\n",
       "      <th>0</th>\n",
       "      <td>5bb442b6382e724314c10c1d</td>\n",
       "      <td>4</td>\n",
       "      <td>2018-09-19</td>\n",
       "      <td>cristianoark23@gmail.com</td>\n",
       "      <td>Dk</td>\n",
       "      <td>2018-09-19 21:43:43</td>\n",
       "      <td>2018-09-20 00:43:43</td>\n",
       "      <td>0b8512a54804c39fe0eb1a2b2d32760d</td>\n",
       "    </tr>\n",
       "    <tr>\n",
       "      <th>1</th>\n",
       "      <td>5b9ec43d29d9dd39090e1d90</td>\n",
       "      <td>3</td>\n",
       "      <td>1990-02-07</td>\n",
       "      <td>kayron.scabral@gmail.com</td>\n",
       "      <td>Kayron Cabral</td>\n",
       "      <td>2018-09-24 13:43:49</td>\n",
       "      <td>2018-09-24 16:43:49</td>\n",
       "      <td>58f02f39c4c2b4b993f89918969a9137</td>\n",
       "    </tr>\n",
       "    <tr>\n",
       "      <th>2</th>\n",
       "      <td>5bb442b4382e724314c10c1a</td>\n",
       "      <td>1</td>\n",
       "      <td>1995-10-18</td>\n",
       "      <td>emanuelfilipe678@gmail.com</td>\n",
       "      <td>Fkli</td>\n",
       "      <td>2018-09-26 16:46:49</td>\n",
       "      <td>2018-09-26 19:46:49</td>\n",
       "      <td>da189936f361ae933a01723cdedefbb7</td>\n",
       "    </tr>\n",
       "    <tr>\n",
       "      <th>3</th>\n",
       "      <td>5bb442b5382e724314c10c1b</td>\n",
       "      <td>2</td>\n",
       "      <td>1998-07-09</td>\n",
       "      <td>ygor_santos22k@hotmail.com</td>\n",
       "      <td>Ygor</td>\n",
       "      <td>2018-09-20 01:21:39</td>\n",
       "      <td>2018-09-20 04:21:39</td>\n",
       "      <td>e64df55870ca4bcf99931818044d8d99</td>\n",
       "    </tr>\n",
       "    <tr>\n",
       "      <th>4</th>\n",
       "      <td>5bb442b6382e724314c10c1c</td>\n",
       "      <td>2</td>\n",
       "      <td>1984-04-24</td>\n",
       "      <td>thiagopolitto@yahoo.com.br</td>\n",
       "      <td>Thiago</td>\n",
       "      <td>2018-09-19 22:01:43</td>\n",
       "      <td>2018-09-20 01:01:43</td>\n",
       "      <td>95e25a78cac5a58a8f7ddab1f7ba1e23</td>\n",
       "    </tr>\n",
       "  </tbody>\n",
       "</table>\n",
       "</div>"
      ],
      "text/plain": [
       "                        _id budget         dob                       email  \\\n",
       "0  5bb442b6382e724314c10c1d      4  2018-09-19    cristianoark23@gmail.com   \n",
       "1  5b9ec43d29d9dd39090e1d90      3  1990-02-07    kayron.scabral@gmail.com   \n",
       "2  5bb442b4382e724314c10c1a      1  1995-10-18  emanuelfilipe678@gmail.com   \n",
       "3  5bb442b5382e724314c10c1b      2  1998-07-09  ygor_santos22k@hotmail.com   \n",
       "4  5bb442b6382e724314c10c1c      2  1984-04-24  thiagopolitto@yahoo.com.br   \n",
       "\n",
       "            name            startedAt          submitedAt  \\\n",
       "0             Dk  2018-09-19 21:43:43 2018-09-20 00:43:43   \n",
       "1  Kayron Cabral  2018-09-24 13:43:49 2018-09-24 16:43:49   \n",
       "2           Fkli  2018-09-26 16:46:49 2018-09-26 19:46:49   \n",
       "3           Ygor  2018-09-20 01:21:39 2018-09-20 04:21:39   \n",
       "4         Thiago  2018-09-19 22:01:43 2018-09-20 01:01:43   \n",
       "\n",
       "                         typeformID  \n",
       "0  0b8512a54804c39fe0eb1a2b2d32760d  \n",
       "1  58f02f39c4c2b4b993f89918969a9137  \n",
       "2  da189936f361ae933a01723cdedefbb7  \n",
       "3  e64df55870ca4bcf99931818044d8d99  \n",
       "4  95e25a78cac5a58a8f7ddab1f7ba1e23  "
      ]
     },
     "execution_count": 11,
     "metadata": {},
     "output_type": "execute_result"
    }
   ],
   "source": [
    "df.head()"
   ]
  },
  {
   "cell_type": "code",
   "execution_count": 12,
   "metadata": {
    "collapsed": false
   },
   "outputs": [
    {
     "name": "stdout",
     "output_type": "stream",
     "text": [
      "(10000, 8)\n",
      "(893, 8)\n"
     ]
    },
    {
     "data": {
      "text/html": [
       "<div>\n",
       "<table border=\"1\" class=\"dataframe\">\n",
       "  <thead>\n",
       "    <tr style=\"text-align: right;\">\n",
       "      <th></th>\n",
       "      <th>_id</th>\n",
       "      <th>budget</th>\n",
       "      <th>dob</th>\n",
       "      <th>email</th>\n",
       "      <th>name</th>\n",
       "      <th>startedAt</th>\n",
       "      <th>submitedAt</th>\n",
       "      <th>typeformID</th>\n",
       "    </tr>\n",
       "  </thead>\n",
       "  <tbody>\n",
       "    <tr>\n",
       "      <th>0</th>\n",
       "      <td>5bb442b6382e724314c10c1d</td>\n",
       "      <td>4</td>\n",
       "      <td>2018-09-19</td>\n",
       "      <td>cristianoark23@gmail.com</td>\n",
       "      <td>Dk</td>\n",
       "      <td>2018-09-19 21:43:43</td>\n",
       "      <td>2018-09-20 00:43:43</td>\n",
       "      <td>0b8512a54804c39fe0eb1a2b2d32760d</td>\n",
       "    </tr>\n",
       "    <tr>\n",
       "      <th>1</th>\n",
       "      <td>5b9ec43d29d9dd39090e1d90</td>\n",
       "      <td>3</td>\n",
       "      <td>1990-02-07</td>\n",
       "      <td>kayron.scabral@gmail.com</td>\n",
       "      <td>Kayron Cabral</td>\n",
       "      <td>2018-09-24 13:43:49</td>\n",
       "      <td>2018-09-24 16:43:49</td>\n",
       "      <td>58f02f39c4c2b4b993f89918969a9137</td>\n",
       "    </tr>\n",
       "    <tr>\n",
       "      <th>2</th>\n",
       "      <td>5bb442b4382e724314c10c1a</td>\n",
       "      <td>1</td>\n",
       "      <td>1995-10-18</td>\n",
       "      <td>emanuelfilipe678@gmail.com</td>\n",
       "      <td>Fkli</td>\n",
       "      <td>2018-09-26 16:46:49</td>\n",
       "      <td>2018-09-26 19:46:49</td>\n",
       "      <td>da189936f361ae933a01723cdedefbb7</td>\n",
       "    </tr>\n",
       "    <tr>\n",
       "      <th>3</th>\n",
       "      <td>5bb442b5382e724314c10c1b</td>\n",
       "      <td>2</td>\n",
       "      <td>1998-07-09</td>\n",
       "      <td>ygor_santos22k@hotmail.com</td>\n",
       "      <td>Ygor</td>\n",
       "      <td>2018-09-20 01:21:39</td>\n",
       "      <td>2018-09-20 04:21:39</td>\n",
       "      <td>e64df55870ca4bcf99931818044d8d99</td>\n",
       "    </tr>\n",
       "    <tr>\n",
       "      <th>4</th>\n",
       "      <td>5bb442b6382e724314c10c1c</td>\n",
       "      <td>2</td>\n",
       "      <td>1984-04-24</td>\n",
       "      <td>thiagopolitto@yahoo.com.br</td>\n",
       "      <td>Thiago</td>\n",
       "      <td>2018-09-19 22:01:43</td>\n",
       "      <td>2018-09-20 01:01:43</td>\n",
       "      <td>95e25a78cac5a58a8f7ddab1f7ba1e23</td>\n",
       "    </tr>\n",
       "  </tbody>\n",
       "</table>\n",
       "</div>"
      ],
      "text/plain": [
       "                        _id budget         dob                       email  \\\n",
       "0  5bb442b6382e724314c10c1d      4  2018-09-19    cristianoark23@gmail.com   \n",
       "1  5b9ec43d29d9dd39090e1d90      3  1990-02-07    kayron.scabral@gmail.com   \n",
       "2  5bb442b4382e724314c10c1a      1  1995-10-18  emanuelfilipe678@gmail.com   \n",
       "3  5bb442b5382e724314c10c1b      2  1998-07-09  ygor_santos22k@hotmail.com   \n",
       "4  5bb442b6382e724314c10c1c      2  1984-04-24  thiagopolitto@yahoo.com.br   \n",
       "\n",
       "            name            startedAt          submitedAt  \\\n",
       "0             Dk  2018-09-19 21:43:43 2018-09-20 00:43:43   \n",
       "1  Kayron Cabral  2018-09-24 13:43:49 2018-09-24 16:43:49   \n",
       "2           Fkli  2018-09-26 16:46:49 2018-09-26 19:46:49   \n",
       "3           Ygor  2018-09-20 01:21:39 2018-09-20 04:21:39   \n",
       "4         Thiago  2018-09-19 22:01:43 2018-09-20 01:01:43   \n",
       "\n",
       "                         typeformID  \n",
       "0  0b8512a54804c39fe0eb1a2b2d32760d  \n",
       "1  58f02f39c4c2b4b993f89918969a9137  \n",
       "2  da189936f361ae933a01723cdedefbb7  \n",
       "3  e64df55870ca4bcf99931818044d8d99  \n",
       "4  95e25a78cac5a58a8f7ddab1f7ba1e23  "
      ]
     },
     "execution_count": 12,
     "metadata": {},
     "output_type": "execute_result"
    }
   ],
   "source": [
    "print new_user_sample.shape\n",
    "print df.shape\n",
    "df_sampled = pd.concat([df, new_user_sample])\n",
    "df_sampled.head()"
   ]
  },
  {
   "cell_type": "code",
   "execution_count": 13,
   "metadata": {
    "collapsed": false
   },
   "outputs": [
    {
     "name": "stdout",
     "output_type": "stream",
     "text": [
      "(1000, 7)\n",
      "(100, 7)\n"
     ]
    },
    {
     "data": {
      "text/html": [
       "<div>\n",
       "<table border=\"1\" class=\"dataframe\">\n",
       "  <thead>\n",
       "    <tr style=\"text-align: right;\">\n",
       "      <th></th>\n",
       "      <th>_id</th>\n",
       "      <th>createdAt</th>\n",
       "      <th>event</th>\n",
       "      <th>look</th>\n",
       "      <th>product</th>\n",
       "      <th>updatedAt</th>\n",
       "      <th>user</th>\n",
       "    </tr>\n",
       "  </thead>\n",
       "  <tbody>\n",
       "    <tr>\n",
       "      <th>0</th>\n",
       "      <td></td>\n",
       "      <td>2018-07-20 09:52:43</td>\n",
       "      <td>UNSUBSCRIBE_CLICK</td>\n",
       "      <td>None</td>\n",
       "      <td>None</td>\n",
       "      <td>2018-07-20 09:52:43</td>\n",
       "      <td></td>\n",
       "    </tr>\n",
       "    <tr>\n",
       "      <th>1</th>\n",
       "      <td></td>\n",
       "      <td>2018-04-03 04:35:22</td>\n",
       "      <td>UNSUBSCRIBE_CLICK</td>\n",
       "      <td>None</td>\n",
       "      <td>None</td>\n",
       "      <td>2018-04-03 04:35:22</td>\n",
       "      <td></td>\n",
       "    </tr>\n",
       "    <tr>\n",
       "      <th>2</th>\n",
       "      <td></td>\n",
       "      <td>2018-09-20 12:49:24</td>\n",
       "      <td>UNSUBSCRIBE_CLICK</td>\n",
       "      <td>None</td>\n",
       "      <td>None</td>\n",
       "      <td>2018-09-20 12:49:24</td>\n",
       "      <td></td>\n",
       "    </tr>\n",
       "    <tr>\n",
       "      <th>3</th>\n",
       "      <td></td>\n",
       "      <td>2018-08-29 09:51:26</td>\n",
       "      <td>UNSUBSCRIBE_CLICK</td>\n",
       "      <td>None</td>\n",
       "      <td>None</td>\n",
       "      <td>2018-08-29 09:51:26</td>\n",
       "      <td></td>\n",
       "    </tr>\n",
       "    <tr>\n",
       "      <th>4</th>\n",
       "      <td></td>\n",
       "      <td>2018-09-10 01:56:46</td>\n",
       "      <td>UNSUBSCRIBE_CLICK</td>\n",
       "      <td>None</td>\n",
       "      <td>None</td>\n",
       "      <td>2018-09-10 01:56:46</td>\n",
       "      <td></td>\n",
       "    </tr>\n",
       "  </tbody>\n",
       "</table>\n",
       "</div>"
      ],
      "text/plain": [
       "  _id           createdAt              event  look product  \\\n",
       "0     2018-07-20 09:52:43  UNSUBSCRIBE_CLICK  None    None   \n",
       "1     2018-04-03 04:35:22  UNSUBSCRIBE_CLICK  None    None   \n",
       "2     2018-09-20 12:49:24  UNSUBSCRIBE_CLICK  None    None   \n",
       "3     2018-08-29 09:51:26  UNSUBSCRIBE_CLICK  None    None   \n",
       "4     2018-09-10 01:56:46  UNSUBSCRIBE_CLICK  None    None   \n",
       "\n",
       "            updatedAt user  \n",
       "0 2018-07-20 09:52:43       \n",
       "1 2018-04-03 04:35:22       \n",
       "2 2018-09-20 12:49:24       \n",
       "3 2018-08-29 09:51:26       \n",
       "4 2018-09-10 01:56:46       "
      ]
     },
     "execution_count": 13,
     "metadata": {},
     "output_type": "execute_result"
    }
   ],
   "source": [
    "print unsub_sample.shape\n",
    "print dfClick.shape\n",
    "dfClickSampled = pd.concat([unsub_sample, dfClick])\n",
    "dfClickSampled.head()"
   ]
  },
  {
   "cell_type": "code",
   "execution_count": 14,
   "metadata": {
    "collapsed": false
   },
   "outputs": [
    {
     "data": {
      "text/plain": [
       "<matplotlib.axes._subplots.AxesSubplot at 0x112724b90>"
      ]
     },
     "execution_count": 14,
     "metadata": {},
     "output_type": "execute_result"
    },
    {
     "data": {
      "image/png": "[encoded data removed]",
      "text/plain": [
       "<matplotlib.figure.Figure at 0x1126e2d90>"
      ]
     },
     "metadata": {},
     "output_type": "display_data"
    }
   ],
   "source": [
    "unsub = dfClickSampled[dfClickSampled['event'] == 'UNSUBSCRIBE_CLICK']\n",
    "unsub[\"createdAt\"].groupby(unsub[\"createdAt\"].dt.week).count().plot(kind=\"bar\")"
   ]
  },
  {
   "cell_type": "code",
   "execution_count": 15,
   "metadata": {
    "collapsed": false
   },
   "outputs": [
    {
     "data": {
      "text/plain": [
       "<matplotlib.axes._subplots.AxesSubplot at 0x112943f50>"
      ]
     },
     "execution_count": 15,
     "metadata": {},
     "output_type": "execute_result"
    },
    {
     "data": {
      "image/png": "[encoded data removed]",
      "text/plain": [
       "<matplotlib.figure.Figure at 0x112a8e850>"
      ]
     },
     "metadata": {},
     "output_type": "display_data"
    }
   ],
   "source": [
    "number_lost_week = unsub[\"createdAt\"].groupby(unsub[\"createdAt\"].dt.week).count()\n",
    "start_period_week = df_sampled[\"submitedAt\"].groupby(df_sampled[\"submitedAt\"].dt.week).count()\n",
    "start_period_week_total = pd.rolling_sum(start_period_week,window =7,min_periods=0)\n",
    "start_period_week_total.plot()"
   ]
  },
  {
   "cell_type": "code",
   "execution_count": 16,
   "metadata": {
    "collapsed": false
   },
   "outputs": [
    {
     "data": {
      "text/plain": [
       "<matplotlib.axes._subplots.AxesSubplot at 0x112ca1a10>"
      ]
     },
     "execution_count": 16,
     "metadata": {},
     "output_type": "execute_result"
    },
    {
     "data": {
      "image/png": "[encoded data removed]",
      "text/plain": [
       "<matplotlib.figure.Figure at 0x11260c910>"
      ]
     },
     "metadata": {},
     "output_type": "display_data"
    }
   ],
   "source": [
    "churn_rate = number_lost_week / start_period_week_total\n",
    "churn_rate.plot()"
   ]
  },
  {
   "cell_type": "markdown",
   "metadata": {},
   "source": [
    "# Speed Rate"
   ]
  },
  {
   "cell_type": "code",
   "execution_count": 17,
   "metadata": {
    "collapsed": false
   },
   "outputs": [
    {
     "name": "stdout",
     "output_type": "stream",
     "text": [
      "34         NaN\n",
      "35    0.984354\n",
      "36    0.945399\n",
      "37    0.040641\n",
      "38    0.767271\n",
      "39    0.431568\n",
      "40    0.312890\n",
      "41    0.243732\n",
      "42    0.084760\n",
      "dtype: float64\n"
     ]
    },
    {
     "data": {
      "text/plain": [
       "<matplotlib.axes._subplots.AxesSubplot at 0x112c95b10>"
      ]
     },
     "execution_count": 17,
     "metadata": {},
     "output_type": "execute_result"
    },
    {
     "data": {
      "image/png": "[encoded data removed]",
      "text/plain": [
       "<matplotlib.figure.Figure at 0x112d4f190>"
      ]
     },
     "metadata": {},
     "output_type": "display_data"
    }
   ],
   "source": [
    "speed_rate = growth_rate - churn_rate[33:42]\n",
    "print speed_rate\n",
    "speed_rate.plot()"
   ]
  },
  {
   "cell_type": "code",
   "execution_count": 18,
   "metadata": {
    "collapsed": false
   },
   "outputs": [
    {
     "data": {
      "text/plain": [
       "<matplotlib.axes._subplots.AxesSubplot at 0x112df6d50>"
      ]
     },
     "execution_count": 18,
     "metadata": {},
     "output_type": "execute_result"
    },
    {
     "data": {
      "image/png": "[encoded data removed]",
      "text/plain": [
       "<matplotlib.figure.Figure at 0x1129fee10>"
      ]
     },
     "metadata": {},
     "output_type": "display_data"
    }
   ],
   "source": [
    "speed_rate.plot(kind='bar')"
   ]
  },
  {
   "cell_type": "code",
   "execution_count": null,
   "metadata": {
    "collapsed": true
   },
   "outputs": [],
   "source": []
  }
 ],
 "metadata": {
  "kernelspec": {
   "display_name": "Python 2",
   "language": "python",
   "name": "python2"
  },
  "language_info": {
   "codemirror_mode": {
    "name": "ipython",
    "version": 2
   },
   "file_extension": ".py",
   "mimetype": "text/x-python",
   "name": "python",
   "nbconvert_exporter": "python",
   "pygments_lexer": "ipython2",
   "version": "2.7.10"
  }
 },
 "nbformat": 4,
 "nbformat_minor": 2
}
